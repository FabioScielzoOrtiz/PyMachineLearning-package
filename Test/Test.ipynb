{
 "cells": [
  {
   "cell_type": "code",
   "execution_count": 1,
   "metadata": {},
   "outputs": [
    {
     "name": "stdout",
     "output_type": "stream",
     "text": [
      "Requirement already satisfied: PyMachineLearning in c:\\users\\fscielzo\\appdata\\local\\programs\\python\\python312\\lib\\site-packages (0.0.2)\n",
      "Collecting PyMachineLearning\n",
      "  Using cached PyMachineLearning-0.0.4-py3-none-any.whl.metadata (582 bytes)\n",
      "Requirement already satisfied: pandas in c:\\users\\fscielzo\\appdata\\local\\programs\\python\\python312\\lib\\site-packages (from PyMachineLearning) (2.1.1)\n",
      "Requirement already satisfied: numpy in c:\\users\\fscielzo\\appdata\\local\\programs\\python\\python312\\lib\\site-packages (from PyMachineLearning) (1.26.1)\n",
      "Requirement already satisfied: scikit-learn in c:\\users\\fscielzo\\appdata\\local\\programs\\python\\python312\\lib\\site-packages (from PyMachineLearning) (1.3.1)\n",
      "Requirement already satisfied: python-dateutil>=2.8.2 in c:\\users\\fscielzo\\appdata\\roaming\\python\\python312\\site-packages (from pandas->PyMachineLearning) (2.8.2)\n",
      "Requirement already satisfied: pytz>=2020.1 in c:\\users\\fscielzo\\appdata\\local\\programs\\python\\python312\\lib\\site-packages (from pandas->PyMachineLearning) (2023.3.post1)\n",
      "Requirement already satisfied: tzdata>=2022.1 in c:\\users\\fscielzo\\appdata\\local\\programs\\python\\python312\\lib\\site-packages (from pandas->PyMachineLearning) (2023.3)\n",
      "Requirement already satisfied: scipy>=1.5.0 in c:\\users\\fscielzo\\appdata\\local\\programs\\python\\python312\\lib\\site-packages (from scikit-learn->PyMachineLearning) (1.11.3)\n",
      "Requirement already satisfied: joblib>=1.1.1 in c:\\users\\fscielzo\\appdata\\local\\programs\\python\\python312\\lib\\site-packages (from scikit-learn->PyMachineLearning) (1.3.2)\n",
      "Requirement already satisfied: threadpoolctl>=2.0.0 in c:\\users\\fscielzo\\appdata\\local\\programs\\python\\python312\\lib\\site-packages (from scikit-learn->PyMachineLearning) (3.2.0)\n",
      "Requirement already satisfied: six>=1.5 in c:\\users\\fscielzo\\appdata\\roaming\\python\\python312\\site-packages (from python-dateutil>=2.8.2->pandas->PyMachineLearning) (1.16.0)\n",
      "Using cached PyMachineLearning-0.0.4-py3-none-any.whl (9.9 kB)\n",
      "Installing collected packages: PyMachineLearning\n",
      "  Attempting uninstall: PyMachineLearning\n",
      "    Found existing installation: PyMachineLearning 0.0.2\n",
      "    Uninstalling PyMachineLearning-0.0.2:\n",
      "      Successfully uninstalled PyMachineLearning-0.0.2\n",
      "Successfully installed PyMachineLearning-0.0.4\n",
      "Note: you may need to restart the kernel to use updated packages.\n"
     ]
    }
   ],
   "source": [
    "pip install PyMachineLearning --upgrade"
   ]
  },
  {
   "cell_type": "code",
   "execution_count": 2,
   "metadata": {},
   "outputs": [
    {
     "name": "stdout",
     "output_type": "stream",
     "text": [
      "Name: PyMachineLearning\n",
      "Version: 0.0.4\n",
      "Summary: A package with ML utils.\n",
      "Home-page: https://github.com/FabioScielzoOrtiz/PyMachineLearning_Package\n",
      "Author: Fabio Scielzo Ortiz\n",
      "Author-email: fabioscielzo98@gmail.com\n",
      "License: \n",
      "Location: c:\\Users\\fscielzo\\AppData\\Local\\Programs\\Python\\Python312\\Lib\\site-packages\n",
      "Requires: numpy, pandas, scikit-learn\n",
      "Required-by: \n",
      "Note: you may need to restart the kernel to use updated packages.\n"
     ]
    }
   ],
   "source": [
    "pip show PyMachineLearning "
   ]
  },
  {
   "cell_type": "code",
   "execution_count": 4,
   "metadata": {},
   "outputs": [],
   "source": [
    "from PyMachineLearning.preprocessing import encoder"
   ]
  },
  {
   "cell_type": "code",
   "execution_count": 5,
   "metadata": {},
   "outputs": [
    {
     "data": {
      "text/plain": [
       "PyMachineLearning.preprocessing.encoder"
      ]
     },
     "execution_count": 5,
     "metadata": {},
     "output_type": "execute_result"
    }
   ],
   "source": [
    "encoder"
   ]
  }
 ],
 "metadata": {
  "kernelspec": {
   "display_name": "Python 3",
   "language": "python",
   "name": "python3"
  },
  "language_info": {
   "codemirror_mode": {
    "name": "ipython",
    "version": 3
   },
   "file_extension": ".py",
   "mimetype": "text/x-python",
   "name": "python",
   "nbconvert_exporter": "python",
   "pygments_lexer": "ipython3",
   "version": "3.12.0"
  }
 },
 "nbformat": 4,
 "nbformat_minor": 2
}
